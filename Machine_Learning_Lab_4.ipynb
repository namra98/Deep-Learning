{
  "nbformat": 4,
  "nbformat_minor": 0,
  "metadata": {
    "kernelspec": {
      "display_name": "Python 3",
      "language": "python",
      "name": "python3"
    },
    "language_info": {
      "codemirror_mode": {
        "name": "ipython",
        "version": 3
      },
      "file_extension": ".py",
      "mimetype": "text/x-python",
      "name": "python",
      "nbconvert_exporter": "python",
      "pygments_lexer": "ipython3",
      "version": "3.6.6"
    },
    "colab": {
      "name": "Machine Learning Lab 4",
      "provenance": [],
      "collapsed_sections": [],
      "include_colab_link": true
    }
  },
  "cells": [
    {
      "cell_type": "markdown",
      "metadata": {
        "id": "view-in-github",
        "colab_type": "text"
      },
      "source": [
        "<a href=\"https://colab.research.google.com/github/namra98/Deep-Learning/blob/master/Machine_Learning_Lab_4.ipynb\" target=\"_parent\"><img src=\"https://colab.research.google.com/assets/colab-badge.svg\" alt=\"Open In Colab\"/></a>"
      ]
    },
    {
      "cell_type": "code",
      "metadata": {
        "_cell_guid": "b1076dfc-b9ad-4769-8c92-a6c4dae69d19",
        "_uuid": "8f2839f25d086af736a60e9eeb907d3b93b6e0e5",
        "id": "h8E5cSAuMHAk",
        "colab_type": "code",
        "colab": {}
      },
      "source": [
        "import numpy as np # linear algebra\n",
        "import pandas as pd # data processing, CSV file I/O (e.g. pd.read_csv)\n",
        "from scipy.stats import multivariate_normal\n",
        "from sklearn.datasets import load_digits\n",
        "from sklearn.metrics import accuracy_score #works\n",
        "from sklearn.model_selection import train_test_split\n",
        "\n",
        "import os\n",
        "for dirname, _, filenames in os.walk('/kaggle/input'):\n",
        "    for filename in filenames:\n",
        "        print(os.path.join(dirname, filename))\n"
      ],
      "execution_count": 0,
      "outputs": []
    },
    {
      "cell_type": "code",
      "metadata": {
        "id": "OIlEnCT6hsiv",
        "colab_type": "code",
        "colab": {
          "base_uri": "https://localhost:8080/",
          "height": 35
        },
        "outputId": "c15c0572-8724-4d18-dbee-3b60d3fcfd6c"
      },
      "source": [
        "from google.colab import drive\n",
        "drive.mount('/content/drive')"
      ],
      "execution_count": 166,
      "outputs": [
        {
          "output_type": "stream",
          "text": [
            "Drive already mounted at /content/drive; to attempt to forcibly remount, call drive.mount(\"/content/drive\", force_remount=True).\n"
          ],
          "name": "stdout"
        }
      ]
    },
    {
      "cell_type": "code",
      "metadata": {
        "id": "4VbuaYheQRPY",
        "colab_type": "code",
        "colab": {}
      },
      "source": [
        "# !wget https://pjreddie.com/media/files/mnist_train.csv\n",
        "# !wget https://pjreddie.com/media/files/mnist_test.csv"
      ],
      "execution_count": 0,
      "outputs": []
    },
    {
      "cell_type": "code",
      "metadata": {
        "_cell_guid": "79c7e3d0-c299-4dcb-8224-4455121ee9b0",
        "_uuid": "d629ff2d2480ee46fbb7e2d37f6b5fab8052498a",
        "id": "_OcZ_NTcMHA9",
        "colab_type": "code",
        "colab": {}
      },
      "source": [
        "# dfX = pd.read_csv('/kaggle/input/mnist-original-dataset/train_images_mnist.csv')\n",
        "# dfY = pd.read_csv('/kaggle/input/mnist-original-dataset/train_labels_mnist.csv')\n",
        "\n",
        "train = pd.read_csv('/content/drive/My Drive/datasets/mnist_train.csv', header=None)\n",
        "test = pd.read_csv('/content/drive/My Drive/datasets/mnist_test.csv', header=None)\n"
      ],
      "execution_count": 0,
      "outputs": []
    },
    {
      "cell_type": "code",
      "metadata": {
        "id": "2YfvfVnDSPwL",
        "colab_type": "code",
        "colab": {}
      },
      "source": [
        "Y_train = train[0].copy()\n",
        "X_train = train.copy()\n",
        "X_train = X_train.drop([0], axis=1)\n",
        "\n",
        "Y_test = test[0].copy()\n",
        "X_test = test.copy()\n",
        "X_test = X_test.drop([0], axis=1).copy()\n"
      ],
      "execution_count": 0,
      "outputs": []
    },
    {
      "cell_type": "markdown",
      "metadata": {
        "id": "ycr_GvaboRKa",
        "colab_type": "text"
      },
      "source": [
        "#LDA Using Two Class (>=5, <5)"
      ]
    },
    {
      "cell_type": "code",
      "metadata": {
        "id": "XSZHuAs-kda7",
        "colab_type": "code",
        "colab": {
          "base_uri": "https://localhost:8080/",
          "height": 54
        },
        "outputId": "2346cfc5-1c1b-473e-a75c-b76fcde0617c"
      },
      "source": [
        "X_train_bin = X_train.copy()\n",
        "Y_train_bin = Y_train.copy()\n",
        "Y_train_bin[Y_train_bin < 5] = 0\n",
        "Y_train_bin[Y_train_bin >= 5] = 1\n",
        "\n",
        "X_test_bin = X_test.copy()\n",
        "Y_test_bin = Y_test.copy()\n",
        "Y_test_bin[Y_test_bin < 5] = 0\n",
        "Y_test_bin[Y_test_bin >= 5] = 1\n",
        "\n",
        "\n",
        "print(accuracy_score(LDA(X_train_bin.values,Y_train_bin.values,X_test_bin.values),Y_test_bin.values))"
      ],
      "execution_count": 171,
      "outputs": [
        {
          "output_type": "stream",
          "text": [
            "(10000, 2)\n",
            "0.7554\n"
          ],
          "name": "stdout"
        }
      ]
    },
    {
      "cell_type": "markdown",
      "metadata": {
        "id": "h1lGQaIWoZ3I",
        "colab_type": "text"
      },
      "source": [
        "## LDA Function"
      ]
    },
    {
      "cell_type": "code",
      "metadata": {
        "id": "G_KlQz51MHBU",
        "colab_type": "code",
        "colab": {}
      },
      "source": [
        "def predict(X,mean_vec,prior):\n",
        "    preds = np.zeros((X.shape[0],prior.shape[0]))\n",
        "    for k in range(prior.shape[0]):\n",
        "        for i in range(X.shape[0]):\n",
        "            preds[i][k]=-0.5*np.matmul((X[i,:,k]-mean_vec[k,:]),(X[i,:,k]-mean_vec[k,:]).T)+np.log(prior[k]);\n",
        "    print(preds.shape);\n",
        "    return np.argmax(preds,axis=1);"
      ],
      "execution_count": 0,
      "outputs": []
    },
    {
      "cell_type": "code",
      "metadata": {
        "id": "dK8FyRehMHBh",
        "colab_type": "code",
        "colab": {}
      },
      "source": [
        "def LDA(X,Y,X_test):\n",
        "    classes = np.unique(Y);\n",
        "    mean_vec = np.zeros((classes.shape[0],X.shape[1]))\n",
        "    prior = np.zeros(classes.shape[0])\n",
        "    cov_mat = np.zeros((X.shape[1],X.shape[1],classes.shape[0]))\n",
        "    X_testf = np.zeros((X_test.shape[0],X_test.shape[1],classes.shape[0]))\n",
        "    for k in range(classes.shape[0]):\n",
        "        X_k = X[np.where(Y==classes[k])[0]][:];\n",
        "        mean_vec[k][:] = np.mean(X_k,axis=0);\n",
        "        prior[k] = float(X_k.shape[0])/X.shape[0];\n",
        "        X_testf[:,:,k] = X_test;\n",
        "    preds = predict(X_testf,mean_vec,prior)\n",
        "    for i in range(X_test.shape[0]):\n",
        "        preds[i] = classes[preds[i]]\n",
        "    return preds;"
      ],
      "execution_count": 0,
      "outputs": []
    },
    {
      "cell_type": "markdown",
      "metadata": {
        "id": "Yrw9BVGhody6",
        "colab_type": "text"
      },
      "source": [
        "## LDA Using 10 classes"
      ]
    },
    {
      "cell_type": "code",
      "metadata": {
        "id": "foQZsYubMHBm",
        "colab_type": "code",
        "colab": {
          "base_uri": "https://localhost:8080/",
          "height": 54
        },
        "outputId": "80284461-9357-4fd7-bfb9-eb0ffd761a75"
      },
      "source": [
        "print(accuracy_score(LDA(X_train.values,Y_train.values,X_test.values),Y_test.values))"
      ],
      "execution_count": 174,
      "outputs": [
        {
          "output_type": "stream",
          "text": [
            "(10000, 10)\n",
            "0.8203\n"
          ],
          "name": "stdout"
        }
      ]
    },
    {
      "cell_type": "code",
      "metadata": {
        "id": "-Wtp1fRDMHBt",
        "colab_type": "code",
        "colab": {}
      },
      "source": [
        "def QDA(X,Y,X_test):\n",
        "    classes = np.unique(Y);\n",
        "    mean_vec = np.zeros((classes.shape[0],X.shape[1]))\n",
        "    prior = np.zeros(classes.shape[0])\n",
        "    cov_mat = np.zeros((X.shape[1],X.shape[1],classes.shape[0]))\n",
        "    funcs = []\n",
        "    for k in range(classes.shape[0]):\n",
        "        X_k = X[np.where(Y==k)[0]][:];\n",
        "        mean_vec[k][:] = np.mean(X_k,axis=0);\n",
        "        prior[k] = float(X_k.shape[0])/X.shape[0];\n",
        "        cov_mat[:,:,k] = np.cov(X_k,rowvar = False);\n",
        "        funcs.append(multivariate_normal(mean = mean_vec[k][:],cov=cov_mat[:,:,k],allow_singular = True))\n",
        "    preds = np.zeros(X_test.shape[0])\n",
        "    for i in range(X_test.shape[0]):\n",
        "        tmp_preds = np.zeros(classes.shape[0])\n",
        "        for k in range (classes.shape[0]):\n",
        "            tmp_preds[k]=funcs[k].pdf(X_test[i][:])*prior[k]\n",
        "        preds[i] = np.argmax(tmp_preds,axis=0)\n",
        "    return preds.astype(np.int32);"
      ],
      "execution_count": 0,
      "outputs": []
    },
    {
      "cell_type": "code",
      "metadata": {
        "id": "DZ-zSkitMHCA",
        "colab_type": "code",
        "colab": {}
      },
      "source": [
        "X_train = pd.read_csv('/content/drive/My Drive/datasets/train_images_mnist.csv', header=None).values\n",
        "X_test = pd.read_csv('/content/drive/My Drive/datasets/test_images_mnist.csv', header=None).values\n",
        "Y_train = pd.read_csv('/content/drive/My Drive/datasets/train_labels_mnist.csv', header=None).values\n",
        "Y_test = pd.read_csv('/content/drive/My Drive/datasets/test_labels_mnist.csv', header=None).values"
      ],
      "execution_count": 0,
      "outputs": []
    },
    {
      "cell_type": "code",
      "metadata": {
        "id": "fUl3z4D2MHCE",
        "colab_type": "code",
        "colab": {
          "base_uri": "https://localhost:8080/",
          "height": 35
        },
        "outputId": "3dc51f45-d0b1-4359-c0da-474c341e4dda"
      },
      "source": [
        "X_train.shape"
      ],
      "execution_count": 177,
      "outputs": [
        {
          "output_type": "execute_result",
          "data": {
            "text/plain": [
              "(60000, 784)"
            ]
          },
          "metadata": {
            "tags": []
          },
          "execution_count": 177
        }
      ]
    },
    {
      "cell_type": "markdown",
      "metadata": {
        "id": "WIw7csLXojms",
        "colab_type": "text"
      },
      "source": [
        "## QDA Using 10 classes"
      ]
    },
    {
      "cell_type": "code",
      "metadata": {
        "id": "Ej8w-qIlMHCJ",
        "colab_type": "code",
        "colab": {
          "base_uri": "https://localhost:8080/",
          "height": 72
        },
        "outputId": "1764861e-5273-4f9b-ee00-019337808a79"
      },
      "source": [
        "print(accuracy_score(QDA(X_train,Y_train,X_test),Y_test))"
      ],
      "execution_count": 178,
      "outputs": [
        {
          "output_type": "stream",
          "text": [
            "/usr/local/lib/python3.6/dist-packages/scipy/stats/_multivariate.py:750: RuntimeWarning: overflow encountered in exp\n",
            "  return np.exp(self.logpdf(x))\n"
          ],
          "name": "stderr"
        },
        {
          "output_type": "stream",
          "text": [
            "0.6935\n"
          ],
          "name": "stdout"
        }
      ]
    },
    {
      "cell_type": "code",
      "metadata": {
        "id": "ELMZFC2GMHCQ",
        "colab_type": "code",
        "colab": {
          "base_uri": "https://localhost:8080/",
          "height": 35
        },
        "outputId": "9408a4c3-6b24-401e-fddd-91146dd84d26"
      },
      "source": [
        "digits = load_digits()\n",
        "X = digits.data\n",
        "Y = digits.target\n",
        "X_tr,X_te,Y_tr,Y_te = train_test_split(X, Y, test_size=0.1, random_state=42)\n",
        "\n",
        "print(accuracy_score(QDA(X_tr,Y_tr,X_te),Y_te))\n"
      ],
      "execution_count": 179,
      "outputs": [
        {
          "output_type": "stream",
          "text": [
            "0.9555555555555556\n"
          ],
          "name": "stdout"
        }
      ]
    },
    {
      "cell_type": "code",
      "metadata": {
        "id": "4Ss75n-bMHDF",
        "colab_type": "code",
        "colab": {}
      },
      "source": [
        ""
      ],
      "execution_count": 0,
      "outputs": []
    }
  ]
}