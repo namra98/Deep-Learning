{
  "nbformat": 4,
  "nbformat_minor": 0,
  "metadata": {
    "kernelspec": {
      "language": "python",
      "display_name": "Python 3",
      "name": "python3"
    },
    "language_info": {
      "pygments_lexer": "ipython3",
      "nbconvert_exporter": "python",
      "version": "3.6.4",
      "file_extension": ".py",
      "codemirror_mode": {
        "name": "ipython",
        "version": 3
      },
      "name": "python",
      "mimetype": "text/x-python"
    },
    "colab": {
      "name": "ML_lab3.ipynb",
      "provenance": [],
      "collapsed_sections": [],
      "include_colab_link": true
    }
  },
  "cells": [
    {
      "cell_type": "markdown",
      "metadata": {
        "id": "view-in-github",
        "colab_type": "text"
      },
      "source": [
        "<a href=\"https://colab.research.google.com/github/namra98/Deep-Learning/blob/master/ML_lab3.ipynb\" target=\"_parent\"><img src=\"https://colab.research.google.com/assets/colab-badge.svg\" alt=\"Open In Colab\"/></a>"
      ]
    },
    {
      "cell_type": "code",
      "metadata": {
        "_uuid": "8f2839f25d086af736a60e9eeb907d3b93b6e0e5",
        "_cell_guid": "b1076dfc-b9ad-4769-8c92-a6c4dae69d19",
        "trusted": true,
        "id": "z5_ca14r0bxA",
        "colab_type": "code",
        "colab": {}
      },
      "source": [
        "import numpy as np\n",
        "import pandas as pd\n",
        "import os\n",
        "import random\n",
        "import matplotlib.pyplot as plt\n",
        "%matplotlib inline"
      ],
      "execution_count": 0,
      "outputs": []
    },
    {
      "cell_type": "code",
      "metadata": {
        "id": "u0rPy_4OgBSY",
        "colab_type": "code",
        "colab": {
          "base_uri": "https://localhost:8080/",
          "height": 34
        },
        "outputId": "15a0f0c8-5e42-4c6e-dfd9-b48b4c59ef3a"
      },
      "source": [
        "from google.colab import drive\n",
        "drive.mount('/content/drive')"
      ],
      "execution_count": 124,
      "outputs": [
        {
          "output_type": "stream",
          "text": [
            "Drive already mounted at /content/drive; to attempt to forcibly remount, call drive.mount(\"/content/drive\", force_remount=True).\n"
          ],
          "name": "stdout"
        }
      ]
    },
    {
      "cell_type": "code",
      "metadata": {
        "_uuid": "d629ff2d2480ee46fbb7e2d37f6b5fab8052498a",
        "_cell_guid": "79c7e3d0-c299-4dcb-8224-4455121ee9b0",
        "trusted": true,
        "id": "uLcdLzQC0bxS",
        "colab_type": "code",
        "colab": {
          "base_uri": "https://localhost:8080/",
          "height": 204
        },
        "outputId": "25aa764e-5691-45b6-96ea-4ab667932509"
      },
      "source": [
        "df1= pd.read_excel('/content/drive/My Drive/Acadamics/IE406/ex2data1-logistic.xls')\n",
        "df2= pd.read_excel('/content/drive/My Drive/Acadamics/IE406/ex2data2-logistic.xls')\n",
        "\n",
        "df1.head()"
      ],
      "execution_count": 125,
      "outputs": [
        {
          "output_type": "execute_result",
          "data": {
            "text/html": [
              "<div>\n",
              "<style scoped>\n",
              "    .dataframe tbody tr th:only-of-type {\n",
              "        vertical-align: middle;\n",
              "    }\n",
              "\n",
              "    .dataframe tbody tr th {\n",
              "        vertical-align: top;\n",
              "    }\n",
              "\n",
              "    .dataframe thead th {\n",
              "        text-align: right;\n",
              "    }\n",
              "</style>\n",
              "<table border=\"1\" class=\"dataframe\">\n",
              "  <thead>\n",
              "    <tr style=\"text-align: right;\">\n",
              "      <th></th>\n",
              "      <th>x1</th>\n",
              "      <th>x2</th>\n",
              "      <th>y</th>\n",
              "    </tr>\n",
              "  </thead>\n",
              "  <tbody>\n",
              "    <tr>\n",
              "      <th>0</th>\n",
              "      <td>34.623660</td>\n",
              "      <td>78.024693</td>\n",
              "      <td>0</td>\n",
              "    </tr>\n",
              "    <tr>\n",
              "      <th>1</th>\n",
              "      <td>30.286711</td>\n",
              "      <td>43.894998</td>\n",
              "      <td>0</td>\n",
              "    </tr>\n",
              "    <tr>\n",
              "      <th>2</th>\n",
              "      <td>35.847409</td>\n",
              "      <td>72.902198</td>\n",
              "      <td>0</td>\n",
              "    </tr>\n",
              "    <tr>\n",
              "      <th>3</th>\n",
              "      <td>60.182599</td>\n",
              "      <td>86.308552</td>\n",
              "      <td>1</td>\n",
              "    </tr>\n",
              "    <tr>\n",
              "      <th>4</th>\n",
              "      <td>79.032736</td>\n",
              "      <td>75.344376</td>\n",
              "      <td>1</td>\n",
              "    </tr>\n",
              "  </tbody>\n",
              "</table>\n",
              "</div>"
            ],
            "text/plain": [
              "          x1         x2  y\n",
              "0  34.623660  78.024693  0\n",
              "1  30.286711  43.894998  0\n",
              "2  35.847409  72.902198  0\n",
              "3  60.182599  86.308552  1\n",
              "4  79.032736  75.344376  1"
            ]
          },
          "metadata": {
            "tags": []
          },
          "execution_count": 125
        }
      ]
    },
    {
      "cell_type": "code",
      "metadata": {
        "trusted": true,
        "id": "-hYSu3Sk0bxg",
        "colab_type": "code",
        "outputId": "fbc647ef-c204-454e-84c3-dd82b3d50da4",
        "colab": {
          "base_uri": "https://localhost:8080/",
          "height": 204
        }
      },
      "source": [
        "df2.head()"
      ],
      "execution_count": 126,
      "outputs": [
        {
          "output_type": "execute_result",
          "data": {
            "text/html": [
              "<div>\n",
              "<style scoped>\n",
              "    .dataframe tbody tr th:only-of-type {\n",
              "        vertical-align: middle;\n",
              "    }\n",
              "\n",
              "    .dataframe tbody tr th {\n",
              "        vertical-align: top;\n",
              "    }\n",
              "\n",
              "    .dataframe thead th {\n",
              "        text-align: right;\n",
              "    }\n",
              "</style>\n",
              "<table border=\"1\" class=\"dataframe\">\n",
              "  <thead>\n",
              "    <tr style=\"text-align: right;\">\n",
              "      <th></th>\n",
              "      <th>x1</th>\n",
              "      <th>x2</th>\n",
              "      <th>y</th>\n",
              "    </tr>\n",
              "  </thead>\n",
              "  <tbody>\n",
              "    <tr>\n",
              "      <th>0</th>\n",
              "      <td>0.051267</td>\n",
              "      <td>0.69956</td>\n",
              "      <td>1</td>\n",
              "    </tr>\n",
              "    <tr>\n",
              "      <th>1</th>\n",
              "      <td>-0.092742</td>\n",
              "      <td>0.68494</td>\n",
              "      <td>1</td>\n",
              "    </tr>\n",
              "    <tr>\n",
              "      <th>2</th>\n",
              "      <td>-0.213710</td>\n",
              "      <td>0.69225</td>\n",
              "      <td>1</td>\n",
              "    </tr>\n",
              "    <tr>\n",
              "      <th>3</th>\n",
              "      <td>-0.375000</td>\n",
              "      <td>0.50219</td>\n",
              "      <td>1</td>\n",
              "    </tr>\n",
              "    <tr>\n",
              "      <th>4</th>\n",
              "      <td>-0.513250</td>\n",
              "      <td>0.46564</td>\n",
              "      <td>1</td>\n",
              "    </tr>\n",
              "  </tbody>\n",
              "</table>\n",
              "</div>"
            ],
            "text/plain": [
              "         x1       x2  y\n",
              "0  0.051267  0.69956  1\n",
              "1 -0.092742  0.68494  1\n",
              "2 -0.213710  0.69225  1\n",
              "3 -0.375000  0.50219  1\n",
              "4 -0.513250  0.46564  1"
            ]
          },
          "metadata": {
            "tags": []
          },
          "execution_count": 126
        }
      ]
    },
    {
      "cell_type": "code",
      "metadata": {
        "trusted": true,
        "id": "Pymvhf-H0byA",
        "colab_type": "code",
        "outputId": "c8e60885-3c1f-4913-c8ed-edaff360cb18",
        "colab": {
          "base_uri": "https://localhost:8080/",
          "height": 269
        }
      },
      "source": [
        "Xpos = df1.loc[df1['y']==1][['x1','x2']]\n",
        "Xneg = df1.loc[df1['y']==0][['x1','x2']]\n",
        "\n",
        "fig, ax = plt.subplots()\n",
        "ax.scatter(Xpos.loc[:]['x1'].values,Xpos.loc[:]['x2'].values,c='blue',label='positive')\n",
        "ax.scatter(Xneg.loc[:]['x1'].values,Xneg.loc[:]['x2'].values,c='green',label='negative')\n",
        "ax.legend()\n",
        "ax.grid(True)\n",
        "plt.show()"
      ],
      "execution_count": 128,
      "outputs": [
        {
          "output_type": "display_data",
          "data": {
            "image/png": "[encoded data removed]",
            "text/plain": [
              "<Figure size 432x288 with 1 Axes>"
            ]
          },
          "metadata": {
            "tags": []
          }
        }
      ]
    },
    {
      "cell_type": "code",
      "metadata": {
        "trusted": true,
        "id": "guUv0a2t0byG",
        "colab_type": "code",
        "outputId": "da5013bb-c6fc-438b-8c3c-58d18800868c",
        "colab": {
          "base_uri": "https://localhost:8080/",
          "height": 269
        }
      },
      "source": [
        "Xpos2 = df2.loc[df2['y']==1][['x1','x2']]\n",
        "Xneg2 = df2.loc[df2['y']==0][['x1','x2']]\n",
        "fig, ax = plt.subplots()\n",
        "ax.scatter(Xpos2.loc[:]['x1'].values,Xpos2.loc[:]['x2'].values,c='blue',label='positive')\n",
        "ax.scatter(Xneg2.loc[:]['x1'].values,Xneg2.loc[:]['x2'].values,c='green',label='negative')\n",
        "ax.legend()\n",
        "ax.grid(True)\n",
        "plt.show()"
      ],
      "execution_count": 129,
      "outputs": [
        {
          "output_type": "display_data",
          "data": {
            "image/png": "[encoded data removed]",
            "text/plain": [
              "<Figure size 432x288 with 1 Axes>"
            ]
          },
          "metadata": {
            "tags": []
          }
        }
      ]
    },
    {
      "cell_type": "code",
      "metadata": {
        "id": "dFm2lwZogz-4",
        "colab_type": "code",
        "colab": {}
      },
      "source": [
        "def sigmoid(z):\n",
        "  return 1/(1+np.exp(-z))\n",
        "\n",
        "def logistic_cost(y_actual,y_predicted):\n",
        "  return np.sum(((-y_actual*np.log(y_predicted)) - ((1-y_actual)*np.log(1-y_predicted))))/y_predicted.shape[0]\n",
        "\n",
        "def logistic_output(X,theta):\n",
        "  t = sigmoid(np.dot(X,theta))\n",
        "  for i in range(t.shape[0]):\n",
        "    if(t[i]<0.5):\n",
        "      t[i]=0\n",
        "    else:\n",
        "      t[i]=1\n",
        "  return t"
      ],
      "execution_count": 0,
      "outputs": []
    },
    {
      "cell_type": "code",
      "metadata": {
        "trusted": true,
        "id": "ekvrs2yU0byO",
        "colab_type": "code",
        "colab": {}
      },
      "source": [
        "def logistic_gradient_descent(X,Y,rate):\n",
        "  epochs = 100000\n",
        "  alphas = [rate]\n",
        "  for alpha in alphas:\n",
        "    theta = np.zeros((3,1))\n",
        "    x0 = X[:,0]*theta[0]\n",
        "    x1 = X[:,1]*theta[1]\n",
        "    x2 = X[:,2]*theta[2]\n",
        "    h = sigmoid(x0+x1+x2)\n",
        "    cost = np.zeros((epochs,1))\n",
        "    for i in range(epochs):\n",
        "      theta[0] = theta[0] - alpha*np.sum(h-Y)/X.shape[0]\n",
        "      for j in range(1,X.shape[1]):\n",
        "        theta[j] = theta[j] - alpha/X.shape[0] * np.sum((h-Y)*X[:,j])\n",
        "        x0 = X[:,0]*theta[0]\n",
        "        x1 = X[:,1]*theta[1]\n",
        "        x2 = X[:,2]*theta[2]\n",
        "        h = sigmoid(x0+x1+x2)\n",
        "      cost[i] = logistic_cost(Y,h)\n",
        "      if(i>0 and cost[i]>cost[i-1]):\n",
        "        epochs = i\n",
        "        break\n",
        "      if(i%10000==0):\n",
        "        print(\"Epoch : \" , i , \" Cost : \" , cost[i])\n",
        "    plt.plot(np.arange(epochs),cost[:epochs])\n",
        "    plt.xlabel('Epochs')\n",
        "    plt.ylabel('Cost')\n",
        "    plt.title('Cost v/s Epoch for gradient descent')\n",
        "    plt.show()\n",
        "    if(alpha==rate):\n",
        "      return theta"
      ],
      "execution_count": 0,
      "outputs": []
    },
    {
      "cell_type": "code",
      "metadata": {
        "trusted": true,
        "id": "C2WqjlQx0byV",
        "colab_type": "code",
        "colab": {}
      },
      "source": [
        "def perform_descent(df1,rate):\n",
        "  msk = random.sample(range(0,100),int(len(df1)*90/100))\n",
        "  vals = np.full((100,1),True)\n",
        "  for i in msk:\n",
        "    vals[i] = False\n",
        "  train_df1 = df1[~vals]\n",
        "  test_df1 = df1[vals]\n",
        "\n",
        "  X = np.zeros((len(train_df1['x1']),3))\n",
        "  X[:,0] = np.ones(len(train_df1['x1']))\n",
        "  X[:,1] = train_df1['x1']\n",
        "  X[:,2] = train_df1['x2']\n",
        "  Y = train_df1['y']\n",
        "  \n",
        "  theta = logistic_gradient_descent(X,Y,rate)\n",
        "  print(theta)\n",
        "  \n",
        "  X = np.zeros((len(test_df1['x1']),3))\n",
        "  X[:,0] = np.ones(len(test_df1['x1']))\n",
        "  X[:,1] = test_df1['x1']\n",
        "  X[:,2] = test_df1['x2']\n",
        "  Y = test_df1['y'].values\n",
        "\n",
        "  x0 = X[:,0]*theta[0]\n",
        "  x1 = X[:,1]*theta[1]\n",
        "  x2 = X[:,2]*theta[2]\n",
        "  h = sigmoid(x0+x1+x2)\n",
        "  count=0\n",
        "  for i in range(len(h)):\n",
        "    if(h[i]<0.5 and Y[i]==0):\n",
        "      count+=1\n",
        "    elif(h[i]>=0.5 and Y[i]==1):\n",
        "      count+=1\n",
        "  acc = count/len(h)\n",
        "  print(acc)\n",
        "  return theta"
      ],
      "execution_count": 0,
      "outputs": []
    },
    {
      "cell_type": "code",
      "metadata": {
        "trusted": true,
        "id": "t_exnx8H0byc",
        "colab_type": "code",
        "colab": {
          "base_uri": "https://localhost:8080/",
          "height": 584
        },
        "outputId": "7c44b7b9-e66d-4f92-8aac-3b6d7b3c0ee5"
      },
      "source": [
        "theta1 = perform_descent(df1,0.001)\n",
        "print(theta1)"
      ],
      "execution_count": 133,
      "outputs": [
        {
          "output_type": "stream",
          "text": [
            "Epoch :  0  Cost :  [0.63514309]\n",
            "Epoch :  10000  Cost :  [0.59264426]\n",
            "Epoch :  20000  Cost :  [0.55734744]\n",
            "Epoch :  30000  Cost :  [0.52708322]\n",
            "Epoch :  40000  Cost :  [0.5010188]\n",
            "Epoch :  50000  Cost :  [0.47844771]\n",
            "Epoch :  60000  Cost :  [0.45878294]\n",
            "Epoch :  70000  Cost :  [0.44154254]\n",
            "Epoch :  80000  Cost :  [0.42633318]\n",
            "Epoch :  90000  Cost :  [0.41283431]\n"
          ],
          "name": "stdout"
        },
        {
          "output_type": "display_data",
          "data": {
            "image/png": "[encoded data removed]",
            "text/plain": [
              "<Figure size 432x288 with 1 Axes>"
            ]
          },
          "metadata": {
            "tags": []
          }
        },
        {
          "output_type": "stream",
          "text": [
            "[[-4.73435044]\n",
            " [ 0.04253026]\n",
            " [ 0.03922348]]\n",
            "1.0\n",
            "[[-4.73435044]\n",
            " [ 0.04253026]\n",
            " [ 0.03922348]]\n"
          ],
          "name": "stdout"
        }
      ]
    },
    {
      "cell_type": "code",
      "metadata": {
        "id": "zzBu8djZmfcb",
        "colab_type": "code",
        "colab": {}
      },
      "source": [
        ""
      ],
      "execution_count": 0,
      "outputs": []
    },
    {
      "cell_type": "code",
      "metadata": {
        "trusted": true,
        "id": "tr4iF6So0byp",
        "colab_type": "code",
        "colab": {}
      },
      "source": [
        "def logistic_gradient_descent(X,Y,rate):\n",
        "  epochs = 100000\n",
        "  alphas = [rate]\n",
        "  for alpha in alphas:\n",
        "    theta = np.zeros((3,1))\n",
        "    x0 = X[:,0]*theta[0]\n",
        "    x1 = X[:,1]**2 * theta[1]\n",
        "    x2 = X[:,2]**2 * theta[2]\n",
        "    h = sigmoid(x0+x1+x2)\n",
        "    cost = np.random.random((epochs,1))\n",
        "    for i in range(epochs):\n",
        "      theta[0] = theta[0] - alpha*np.sum(h-Y)/X.shape[0]\n",
        "      theta[1] = theta[1] - alpha/X.shape[0] * np.sum((h-Y)*X[:,1]**2)\n",
        "      theta[2] = theta[2] - alpha/X.shape[0] * np.sum((h-Y)*X[:,2]**2)\n",
        "      x0 = X[:,0]*theta[0]\n",
        "      x1 = X[:,1]**2 * theta[1]\n",
        "      x2 = X[:,2]**2 * theta[2]\n",
        "      h = sigmoid(x0+x1+x2)\n",
        "      cost[i] = logistic_cost(Y,h)\n",
        "      if(i>0 and cost[i]>cost[i-1]):\n",
        "        epochs = i\n",
        "        break\n",
        "      if(i%10000==0):\n",
        "        print(\"Epoch : \" , i , \" Cost : \" , cost[i])\n",
        "    plt.plot(np.arange(epochs),cost[:epochs])\n",
        "    plt.xlabel('Epochs')\n",
        "    plt.ylabel('Cost')\n",
        "    plt.title('Cost v/s Epoch for gradient descent')\n",
        "    plt.show()\n",
        "    if(alpha==rate):\n",
        "      return theta"
      ],
      "execution_count": 0,
      "outputs": []
    },
    {
      "cell_type": "code",
      "metadata": {
        "trusted": true,
        "id": "Kpm2s6370by2",
        "colab_type": "code",
        "colab": {}
      },
      "source": [
        "def perform_descent(df1,rate):\n",
        "  print(df1.head())\n",
        "  msk = random.sample(range(0,118),int(len(df1)*90/100))\n",
        "  vals = np.full((118,1),True)\n",
        "  for i in msk:\n",
        "    vals[i] = False\n",
        "  train_df1 = df1[~vals]\n",
        "  test_df1 = df1[vals]\n",
        "\n",
        "  X = np.zeros((len(train_df1['x1']),3))\n",
        "  X[:,0] = np.ones(len(train_df1['x1']))\n",
        "  X[:,1] = train_df1['x1']\n",
        "  X[:,2] = train_df1['x2']\n",
        "  Y = train_df1['y']\n",
        "  \n",
        "  theta = logistic_gradient_descent(X,Y,rate)\n",
        "  print(theta)\n",
        "  \n",
        "  X = np.zeros((len(test_df1['x1']),3))\n",
        "  X[:,0] = np.ones(len(test_df1['x1']))\n",
        "  X[:,1] = test_df1['x1']\n",
        "  X[:,2] = test_df1['x2']\n",
        "  Y = test_df1['y'].values\n",
        "\n",
        "  x0 = X[:,0]*theta[0]\n",
        "  # x1 = X[:,1]*theta[1]\n",
        "  # x2 = X[:,2]*theta[2]\n",
        "  x1 = X[:,1]**2 * theta[1]\n",
        "  x2 = X[:,2]**2 * theta[2]\n",
        "  # x5 = np.dot(X[:,1],X[:,2]) * theta[5]\n",
        "  h = sigmoid(x0+x1+x2)\n",
        "  count=0\n",
        "  for i in range(len(h)):\n",
        "    if(h[i]<0.5 and Y[i]==0):\n",
        "      count+=1\n",
        "    elif(h[i]>=0.5 and Y[i]==1):\n",
        "      count+=1\n",
        "  acc = count/len(h)\n",
        "  print(acc)\n",
        "  return theta"
      ],
      "execution_count": 0,
      "outputs": []
    },
    {
      "cell_type": "code",
      "metadata": {
        "id": "C3fqmpu9owii",
        "colab_type": "code",
        "colab": {
          "base_uri": "https://localhost:8080/",
          "height": 34
        },
        "outputId": "d5ec2e45-ab3b-4559-83c5-c39ea921962c"
      },
      "source": [
        "len(df2)"
      ],
      "execution_count": 90,
      "outputs": [
        {
          "output_type": "execute_result",
          "data": {
            "text/plain": [
              "118"
            ]
          },
          "metadata": {
            "tags": []
          },
          "execution_count": 90
        }
      ]
    },
    {
      "cell_type": "code",
      "metadata": {
        "trusted": true,
        "id": "2rzSYn6y0by9",
        "colab_type": "code",
        "colab": {
          "base_uri": "https://localhost:8080/",
          "height": 686
        },
        "outputId": "042c6e4f-397c-4329-a31d-ec3ee1d161b8"
      },
      "source": [
        "theta2 = perform_descent(df2,0.01)\n",
        "print(theta2)"
      ],
      "execution_count": 91,
      "outputs": [
        {
          "output_type": "stream",
          "text": [
            "         x1       x2  y\n",
            "0  0.051267  0.69956  1\n",
            "1 -0.092742  0.68494  1\n",
            "2 -0.213710  0.69225  1\n",
            "3 -0.375000  0.50219  1\n",
            "4 -0.513250  0.46564  1\n",
            "Epoch :  0  Cost :  [0.69311299]\n",
            "Epoch :  10000  Cost :  [0.55640138]\n",
            "Epoch :  20000  Cost :  [0.52746631]\n",
            "Epoch :  30000  Cost :  [0.51866912]\n",
            "Epoch :  40000  Cost :  [0.5154671]\n",
            "Epoch :  50000  Cost :  [0.51418355]\n",
            "Epoch :  60000  Cost :  [0.5136392]\n",
            "Epoch :  70000  Cost :  [0.51340017]\n",
            "Epoch :  80000  Cost :  [0.51329285]\n",
            "Epoch :  90000  Cost :  [0.51324396]\n"
          ],
          "name": "stdout"
        },
        {
          "output_type": "display_data",
          "data": {
            "image/png": "[encoded data removed]",
            "text/plain": [
              "<Figure size 432x288 with 1 Axes>"
            ]
          },
          "metadata": {
            "tags": []
          }
        },
        {
          "output_type": "stream",
          "text": [
            "[[ 2.60075608]\n",
            " [-5.9983332 ]\n",
            " [-4.05468369]]\n",
            "0.9166666666666666\n",
            "[[ 2.60075608]\n",
            " [-5.9983332 ]\n",
            " [-4.05468369]]\n"
          ],
          "name": "stdout"
        }
      ]
    },
    {
      "cell_type": "code",
      "metadata": {
        "id": "ctL4pqtTlN2m",
        "colab_type": "code",
        "colab": {
          "base_uri": "https://localhost:8080/",
          "height": 269
        },
        "outputId": "1211ce68-9e6d-420a-8641-92b1511b466a"
      },
      "source": [
        "def forplot2(x, theta):\n",
        "  return (0.5 - theta[0] - theta[1]*x)/theta[2]\n",
        "\n",
        "x22 = np.linspace(0, 0.4, 20)\n",
        "y22 = []\n",
        "for i in x22:\n",
        "  for j in forplot2(i, theta2):\n",
        "    y22.append(j)\n",
        "\n",
        "\n",
        "fig, ax = plt.subplots()\n",
        "ax.scatter(Xpos2.loc[:]['x1'].values**2,Xpos2.loc[:]['x2'].values**2,c='blue',label='positive')\n",
        "ax.scatter(Xneg2.loc[:]['x1'].values**2,Xneg2.loc[:]['x2'].values**2,c='green',label='negative')\n",
        "ax.plot(x22,y22, c='red')\n",
        "ax.legend()\n",
        "ax.grid(True)\n",
        "plt.show()"
      ],
      "execution_count": 120,
      "outputs": [
        {
          "output_type": "display_data",
          "data": {
            "image/png": "[encoded data removed]",
            "text/plain": [
              "<Figure size 432x288 with 1 Axes>"
            ]
          },
          "metadata": {
            "tags": []
          }
        }
      ]
    },
    {
      "cell_type": "code",
      "metadata": {
        "id": "og2DfZjQnIEF",
        "colab_type": "code",
        "colab": {
          "base_uri": "https://localhost:8080/",
          "height": 269
        },
        "outputId": "d8b55f20-1a72-42b2-f1bd-9544b396b433"
      },
      "source": [
        "def forplot1(x, theta):\n",
        "  return (0.5 - theta[0] - theta[1]*x)/theta[2]\n",
        "\n",
        "x11 = np.linspace(20, 100, 20)\n",
        "y11 = []\n",
        "for i in x11:\n",
        "  for j in forplot1(i, theta1):\n",
        "    y11.append(j)\n",
        "\n",
        "fig, ax = plt.subplots()\n",
        "ax.scatter(Xpos.loc[:]['x1'].values,Xpos.loc[:]['x2'].values,c='blue',label='positive')\n",
        "ax.scatter(Xneg.loc[:]['x1'].values,Xneg.loc[:]['x2'].values,c='green',label='negative')\n",
        "ax.legend()\n",
        "ax.grid(True)\n",
        "ax.plot(x11,y11,c='red')\n",
        "plt.show()\n"
      ],
      "execution_count": 137,
      "outputs": [
        {
          "output_type": "display_data",
          "data": {
            "image/png": "[encoded data removed]",
            "text/plain": [
              "<Figure size 432x288 with 1 Axes>"
            ]
          },
          "metadata": {
            "tags": []
          }
        }
      ]
    },
    {
      "cell_type": "code",
      "metadata": {
        "id": "d46ziDO9qy5v",
        "colab_type": "code",
        "colab": {
          "base_uri": "https://localhost:8080/",
          "height": 68
        },
        "outputId": "b196da24-f0e3-479d-ea00-4d43a772130b"
      },
      "source": [
        "theta1"
      ],
      "execution_count": 134,
      "outputs": [
        {
          "output_type": "execute_result",
          "data": {
            "text/plain": [
              "array([[-4.73435044],\n",
              "       [ 0.04253026],\n",
              "       [ 0.03922348]])"
            ]
          },
          "metadata": {
            "tags": []
          },
          "execution_count": 134
        }
      ]
    },
    {
      "cell_type": "code",
      "metadata": {
        "id": "YuiDEm4ErJEL",
        "colab_type": "code",
        "colab": {
          "base_uri": "https://localhost:8080/",
          "height": 269
        },
        "outputId": "a76a4430-036f-4204-f27b-d8739072f45e"
      },
      "source": [
        "def forplot3(x, theta):\n",
        "  a = (0.5 - theta[0])/theta[2]\n",
        "  return a - (x**2)*theta[1]/theta[2]\n",
        "  \n",
        "\n",
        "x31 = np.linspace(-1, 1, 20)\n",
        "y31 = []\n",
        "y32 = []\n",
        "yq = []\n",
        "for i in x31:\n",
        "  for j in forplot3(i, theta1):\n",
        "    y31.append(np.sqrt(j))\n",
        "    y32.append(-np.sqrt(j))\n",
        "    yq.append(i)\n",
        "    yq.append(i)\n",
        "\n",
        "Xpos2 = df2.loc[df2['y']==1][['x1','x2']]\n",
        "Xneg2 = df2.loc[df2['y']==0][['x1','x2']]\n",
        "fig, ax = plt.subplots()\n",
        "ax.scatter(Xpos2.loc[:]['x1'].values,Xpos2.loc[:]['x2'].values,c='blue',label='positive')\n",
        "ax.scatter(Xneg2.loc[:]['x1'].values,Xneg2.loc[:]['x2'].values,c='green',label='negative')\n",
        "ax.legend()\n",
        "ax.plot(yq,y33,c='red')\n",
        "ax.grid(True)\n",
        "plt.show()"
      ],
      "execution_count": 159,
      "outputs": [
        {
          "output_type": "display_data",
          "data": {
            "image/png": "[encoded data removed]",
            "text/plain": [
              "<Figure size 432x288 with 1 Axes>"
            ]
          },
          "metadata": {
            "tags": []
          }
        }
      ]
    },
    {
      "cell_type": "code",
      "metadata": {
        "id": "JeQCqbYHregn",
        "colab_type": "code",
        "colab": {}
      },
      "source": [
        "x31\n"
      ],
      "execution_count": 0,
      "outputs": []
    },
    {
      "cell_type": "code",
      "metadata": {
        "id": "MLzLTc8csEJc",
        "colab_type": "code",
        "colab": {}
      },
      "source": [
        "y31"
      ],
      "execution_count": 0,
      "outputs": []
    },
    {
      "cell_type": "code",
      "metadata": {
        "id": "5rJFKkAKwe8J",
        "colab_type": "code",
        "colab": {}
      },
      "source": [
        "print(theta1)\n",
        "thetaz = []\n",
        "for i in theta1:\n",
        "  if i<0:\n",
        "    i=-i\n",
        "  thetaz.append(np.sqrt(i))\n",
        "thetaz"
      ],
      "execution_count": 0,
      "outputs": []
    },
    {
      "cell_type": "code",
      "metadata": {
        "id": "TxHYa3iJyAwJ",
        "colab_type": "code",
        "colab": {
          "base_uri": "https://localhost:8080/",
          "height": 269
        },
        "outputId": "93a7ad86-5ed4-45aa-8102-f6b7f0dfef96"
      },
      "source": [
        "x1s = (0.5 - theta1[0])/theta1[1]\n",
        "x2s = (0.5 - theta1[0])/theta1[2]\n",
        "\n",
        "x1s = np.sqrt(x1s)\n",
        "x2s = np.sqrt(x2s)\n",
        "\n",
        "l1 = 2*x1s\n",
        "l2 = 2*x2s\n",
        "from math import pi\n",
        "t = np.linspace(0, 2*pi, 100)\n",
        "plt.plot( x1s*np.cos(t) , x2s*np.sin(t) )\n",
        "plt.grid(color='lightgray',linestyle='--')\n",
        "plt.show()"
      ],
      "execution_count": 174,
      "outputs": [
        {
          "output_type": "display_data",
          "data": {
            "image/png": "[encoded data removed]",
            "text/plain": [
              "<Figure size 432x288 with 1 Axes>"
            ]
          },
          "metadata": {
            "tags": []
          }
        }
      ]
    },
    {
      "cell_type": "code",
      "metadata": {
        "id": "fXmSHuB3yHsy",
        "colab_type": "code",
        "colab": {
          "base_uri": "https://localhost:8080/",
          "height": 34
        },
        "outputId": "e958117c-e701-4ad8-e542-27cee37db075"
      },
      "source": [
        "x1s"
      ],
      "execution_count": 163,
      "outputs": [
        {
          "output_type": "execute_result",
          "data": {
            "text/plain": [
              "array([44.71844214])"
            ]
          },
          "metadata": {
            "tags": []
          },
          "execution_count": 163
        }
      ]
    },
    {
      "cell_type": "code",
      "metadata": {
        "id": "p7M_0uvS0gt3",
        "colab_type": "code",
        "colab": {}
      },
      "source": [
        ""
      ],
      "execution_count": 0,
      "outputs": []
    }
  ]
}