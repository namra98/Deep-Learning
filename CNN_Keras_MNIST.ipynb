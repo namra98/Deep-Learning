{
  "nbformat": 4,
  "nbformat_minor": 0,
  "metadata": {
    "colab": {
      "name": "CNN-Keras-MNIST.ipynb",
      "provenance": [],
      "collapsed_sections": [],
      "include_colab_link": true
    },
    "kernelspec": {
      "name": "python3",
      "display_name": "Python 3"
    }
  },
  "cells": [
    {
      "cell_type": "markdown",
      "metadata": {
        "id": "view-in-github",
        "colab_type": "text"
      },
      "source": [
        "<a href=\"https://colab.research.google.com/github/namra98/Deep-Learning/blob/master/CNN_Keras_MNIST.ipynb\" target=\"_parent\"><img src=\"https://colab.research.google.com/assets/colab-badge.svg\" alt=\"Open In Colab\"/></a>"
      ]
    },
    {
      "cell_type": "code",
      "metadata": {
        "id": "3sG-K2EsQLAX",
        "colab_type": "code",
        "colab": {
          "base_uri": "https://localhost:8080/",
          "height": 35
        },
        "outputId": "3398c090-6e67-487d-bbe1-b4b645e9c901"
      },
      "source": [
        "import numpy as np\n",
        "import pandas as pd\n",
        "import matplotlib.pyplot as plt\n",
        "import tensorflow as tf\n",
        "from keras.models import Sequential\n",
        "from keras.layers import Dense, Activation, Flatten, Conv2D, MaxPooling2D, Dropout\n",
        "from keras import optimizers\n",
        "from sklearn.metrics import accuracy_score\n",
        "from keras.optimizers import SGD\n",
        "from keras.datasets import cifar10\n",
        "\n"
      ],
      "execution_count": 1,
      "outputs": [
        {
          "output_type": "stream",
          "text": [
            "Using TensorFlow backend.\n"
          ],
          "name": "stderr"
        }
      ]
    },
    {
      "cell_type": "code",
      "metadata": {
        "id": "toomnkAeQTf8",
        "colab_type": "code",
        "outputId": "64ea3b1f-5df1-45fc-fea8-930cef398b42",
        "colab": {
          "base_uri": "https://localhost:8080/",
          "height": 269
        }
      },
      "source": [
        "mnist = tf.keras.datasets.mnist\n",
        "(X_train, y_train), (X_test, Y_test) = mnist.load_data()\n",
        "plt.imshow(X_train[0,:,:])\n",
        "\n",
        "X_train = (X_train / 255) - 0.5\n",
        "X_test = (X_test / 255) - 0.5\n",
        "\n",
        "X_train = np.expand_dims(X_train, axis=3)\n",
        "X_test = np.expand_dims(X_test, axis=3)\n",
        "\n",
        "# X_train = X_train.reshape((-1, 784))\n",
        "# X_test = X_test.reshape((-1, 784))"
      ],
      "execution_count": 0,
      "outputs": [
        {
          "output_type": "display_data",
          "data": {
            "image/png": "[encoded data removed]",
            "text/plain": [
              "<Figure size 432x288 with 1 Axes>"
            ]
          },
          "metadata": {
            "tags": []
          }
        }
      ]
    },
    {
      "cell_type": "code",
      "metadata": {
        "id": "fKfYd0TLQYrR",
        "colab_type": "code",
        "colab": {}
      },
      "source": [
        "model = Sequential([\n",
        "  Dense(64, activation='relu', input_shape=(784,)),\n",
        "  Dense(64, activation='relu'),\n",
        "  Dense(10, activation='softmax'),\n",
        "])\n",
        "model.compile(optimizer='adam',\n",
        "              loss='sparse_categorical_crossentropy',\n",
        "              metrics=['accuracy'])"
      ],
      "execution_count": 0,
      "outputs": []
    },
    {
      "cell_type": "code",
      "metadata": {
        "id": "FZZHsAlTRdYx",
        "colab_type": "code",
        "outputId": "0634dd46-317a-48f7-f5c7-13ecf1708583",
        "colab": {
          "base_uri": "https://localhost:8080/",
          "height": 476
        }
      },
      "source": [
        "BATCH_SIZE = 64\n",
        "EPOCHS = 5\n",
        "model.summary()\n",
        "model.fit(X_train, y_train, batch_size=BATCH_SIZE, epochs=EPOCHS)"
      ],
      "execution_count": 0,
      "outputs": [
        {
          "output_type": "stream",
          "text": [
            "Model: \"sequential_15\"\n",
            "_________________________________________________________________\n",
            "Layer (type)                 Output Shape              Param #   \n",
            "=================================================================\n",
            "dense_44 (Dense)             (None, 64)                50240     \n",
            "_________________________________________________________________\n",
            "dense_45 (Dense)             (None, 64)                4160      \n",
            "_________________________________________________________________\n",
            "dense_46 (Dense)             (None, 10)                650       \n",
            "=================================================================\n",
            "Total params: 55,050\n",
            "Trainable params: 55,050\n",
            "Non-trainable params: 0\n",
            "_________________________________________________________________\n",
            "Epoch 1/5\n",
            "60000/60000 [==============================] - 3s 48us/step - loss: 0.4127 - acc: 0.8770\n",
            "Epoch 2/5\n",
            "60000/60000 [==============================] - 2s 40us/step - loss: 0.2140 - acc: 0.9351\n",
            "Epoch 3/5\n",
            "60000/60000 [==============================] - 2s 39us/step - loss: 0.1623 - acc: 0.9503\n",
            "Epoch 4/5\n",
            "60000/60000 [==============================] - 2s 40us/step - loss: 0.1344 - acc: 0.9590\n",
            "Epoch 5/5\n",
            "60000/60000 [==============================] - 2s 40us/step - loss: 0.1175 - acc: 0.9637\n"
          ],
          "name": "stdout"
        },
        {
          "output_type": "execute_result",
          "data": {
            "text/plain": [
              "<keras.callbacks.History at 0x7f4cce91cac8>"
            ]
          },
          "metadata": {
            "tags": []
          },
          "execution_count": 41
        }
      ]
    },
    {
      "cell_type": "code",
      "metadata": {
        "id": "LwyCuDOIWhc9",
        "colab_type": "code",
        "outputId": "0302761e-249b-43af-e880-8f7385ad1eac",
        "colab": {
          "base_uri": "https://localhost:8080/",
          "height": 403
        }
      },
      "source": [
        "input_shape = (28, 28, 1)\n",
        "\n",
        "num_filters = 8\n",
        "filter_size = 3\n",
        "pool_size = 2\n",
        "# 98.17 %\n",
        "# model = Sequential([\n",
        "#   Conv2D(num_filters, filter_size, input_shape=(28, 28, 1)),\n",
        "#   MaxPooling2D(pool_size=pool_size),\n",
        "#   Flatten(),\n",
        "#   Dense(10, activation='softmax'),\n",
        "# ])\n",
        "\n",
        "\n",
        "model = Sequential()\n",
        "model.add(Conv2D(32, kernel_size=(3, 3),\n",
        "                 activation='relu',\n",
        "                 input_shape=input_shape))\n",
        "model.add(Conv2D(64, (3, 3), activation='relu'))\n",
        "model.add(MaxPooling2D(pool_size=(2, 2)))\n",
        "model.add(Dropout(0.25))\n",
        "model.add(Flatten())\n",
        "model.add(Dense(128, activation='relu'))\n",
        "model.add(Dropout(0.5))\n",
        "model.add(Dense(10, activation='softmax'))\n",
        "\n",
        "model.compile(optimizer='adam',\n",
        "              loss='sparse_categorical_crossentropy',\n",
        "              metrics=['accuracy'])\n",
        "\n",
        "model.fit(X_train, y_train,\n",
        "          batch_size=64,\n",
        "          epochs=10)"
      ],
      "execution_count": 0,
      "outputs": [
        {
          "output_type": "stream",
          "text": [
            "Epoch 1/10\n",
            "60000/60000 [==============================] - 148s 2ms/step - loss: 0.2161 - acc: 0.9334\n",
            "Epoch 2/10\n",
            "60000/60000 [==============================] - 149s 2ms/step - loss: 0.0837 - acc: 0.9747\n",
            "Epoch 3/10\n",
            "60000/60000 [==============================] - 148s 2ms/step - loss: 0.0623 - acc: 0.9805\n",
            "Epoch 4/10\n",
            "60000/60000 [==============================] - 148s 2ms/step - loss: 0.0510 - acc: 0.9839\n",
            "Epoch 5/10\n",
            "60000/60000 [==============================] - 148s 2ms/step - loss: 0.0436 - acc: 0.9863\n",
            "Epoch 6/10\n",
            "60000/60000 [==============================] - 147s 2ms/step - loss: 0.0365 - acc: 0.9885\n",
            "Epoch 7/10\n",
            "60000/60000 [==============================] - 148s 2ms/step - loss: 0.0339 - acc: 0.9890\n",
            "Epoch 8/10\n",
            "60000/60000 [==============================] - 148s 2ms/step - loss: 0.0298 - acc: 0.9906\n",
            "Epoch 9/10\n",
            "60000/60000 [==============================] - 148s 2ms/step - loss: 0.0259 - acc: 0.9915\n",
            "Epoch 10/10\n",
            "60000/60000 [==============================] - 148s 2ms/step - loss: 0.0265 - acc: 0.9909\n"
          ],
          "name": "stdout"
        },
        {
          "output_type": "execute_result",
          "data": {
            "text/plain": [
              "<keras.callbacks.History at 0x7f4cc6b6dda0>"
            ]
          },
          "metadata": {
            "tags": []
          },
          "execution_count": 61
        }
      ]
    }
  ]
}