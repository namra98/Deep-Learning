{
  "nbformat": 4,
  "nbformat_minor": 0,
  "metadata": {
    "colab": {
      "name": "LeNet-5_Keras.ipynb",
      "provenance": [],
      "collapsed_sections": [],
      "include_colab_link": true
    },
    "kernelspec": {
      "name": "python3",
      "display_name": "Python 3"
    }
  },
  "cells": [
    {
      "cell_type": "markdown",
      "metadata": {
        "id": "view-in-github",
        "colab_type": "text"
      },
      "source": [
        "<a href=\"https://colab.research.google.com/github/namra98/Deep-Learning/blob/master/LeNet_5_Keras.ipynb\" target=\"_parent\"><img src=\"https://colab.research.google.com/assets/colab-badge.svg\" alt=\"Open In Colab\"/></a>"
      ]
    },
    {
      "cell_type": "markdown",
      "metadata": {
        "id": "r96V8xt368tj",
        "colab_type": "text"
      },
      "source": [
        "## This NoteBook contains Implementation of one of the early CNN : **LeNet-5**\n",
        "\n",
        "> Paper can be found here : http://yann.lecun.com/exdb/publis/pdf/lecun-01a.pdf\n",
        "\n",
        "> This gets **97.68 %** accuracy on MNIST Dataset\n",
        "\n",
        "![alt text](https://raw.githubusercontent.com/mbadry1/DeepLearning.ai-Summary/master/4-%20Convolutional%20Neural%20Networks/Images/05.png)\n",
        "\n",
        "\n"
      ]
    },
    {
      "cell_type": "code",
      "metadata": {
        "id": "3sG-K2EsQLAX",
        "colab_type": "code",
        "colab": {}
      },
      "source": [
        "import numpy as np\n",
        "import pandas as pd\n",
        "import matplotlib.pyplot as plt\n",
        "import tensorflow as tf\n",
        "from keras.models import Sequential\n",
        "from keras.layers import Dense, Activation, Flatten, Conv2D, MaxPooling2D, Dropout\n",
        "from keras import optimizers\n",
        "from sklearn.metrics import accuracy_score\n",
        "from keras.optimizers import SGD\n",
        "from keras.datasets import cifar10\n",
        "from keras import backend as K\n",
        "import keras\n",
        "\n"
      ],
      "execution_count": 0,
      "outputs": []
    },
    {
      "cell_type": "code",
      "metadata": {
        "id": "toomnkAeQTf8",
        "colab_type": "code",
        "outputId": "3e8e1ea8-59f4-4bd8-c2b0-75ce655aadee",
        "colab": {
          "base_uri": "https://localhost:8080/",
          "height": 287
        }
      },
      "source": [
        "mnist = tf.keras.datasets.mnist\n",
        "(X_train, Y_train), (X_test, Y_test) = mnist.load_data()\n",
        "\n",
        "plt.imshow(X_train[0,:,:])"
      ],
      "execution_count": 0,
      "outputs": [
        {
          "output_type": "execute_result",
          "data": {
            "text/plain": [
              "<matplotlib.image.AxesImage at 0x7f6c82948160>"
            ]
          },
          "metadata": {
            "tags": []
          },
          "execution_count": 10
        },
        {
          "output_type": "display_data",
          "data": {
            "image/png": "[encoded data removed]",
            "text/plain": [
              "<Figure size 432x288 with 1 Axes>"
            ]
          },
          "metadata": {
            "tags": []
          }
        }
      ]
    },
    {
      "cell_type": "code",
      "metadata": {
        "id": "0FjeiYyo1stO",
        "colab_type": "code",
        "outputId": "28a524b6-0a54-45e6-f97f-8c62fd2c641b",
        "colab": {
          "base_uri": "https://localhost:8080/",
          "height": 35
        }
      },
      "source": [
        "if K.image_data_format() == 'channels_first':\n",
        "  X_train = X_train.reshape(X_train.shape[0], 1, X_train.shape[1], X_train.shape[2])\n",
        "  X_test = X_test.reshape(X_test.shape[0], 1, X_test.shape[1], X_test.shape[2])\n",
        "  input_shape = (1, X_test.shape[1], X_test.shape[2])\n",
        "else:\n",
        "  X_train = X_train.reshape(X_train.shape[0], X_train.shape[1], X_train.shape[2], 1)\n",
        "  X_test = X_test.reshape(X_test.shape[0], X_test.shape[1], X_test.shape[2], 1)\n",
        "  input_shape = (X_test.shape[1], X_test.shape[2], 1)\n",
        "\n",
        "print(input_shape)"
      ],
      "execution_count": 0,
      "outputs": [
        {
          "output_type": "stream",
          "text": [
            "(28, 28, 1)\n"
          ],
          "name": "stdout"
        }
      ]
    },
    {
      "cell_type": "code",
      "metadata": {
        "id": "9jf59pOw26nM",
        "colab_type": "code",
        "colab": {}
      },
      "source": [
        "X_train = X_train.astype('float32')\n",
        "X_test = X_test.astype('float32')\n",
        "\n",
        "X_train = (X_train / 255) - 0.5\n",
        "X_test = (X_test / 255) - 0.5\n",
        "\n",
        "Y_train = keras.utils.to_categorical(Y_train, 10)\n",
        "Y_test = keras.utils.to_categorical(Y_test, 10)"
      ],
      "execution_count": 0,
      "outputs": []
    },
    {
      "cell_type": "code",
      "metadata": {
        "id": "gwuItyXP09ky",
        "colab_type": "code",
        "outputId": "a2901584-14bd-457e-fae6-eb32e85cb43b",
        "colab": {
          "base_uri": "https://localhost:8080/",
          "height": 110
        }
      },
      "source": [
        "model = Sequential()\n",
        "model.add(Conv2D(6, kernel_size=(5, 5)))\n",
        "model.add(keras.layers.AveragePooling2D(pool_size=(2,2), strides=(2,2)))\n",
        "model.add(Conv2D(16, kernel_size=(5, 5)))\n",
        "model.add(keras.layers.AveragePooling2D(pool_size=(2,2), strides=(2,2)))\n",
        "model.add(Flatten())\n",
        "model.add(Dense(120, activation='relu'))\n",
        "model.add(Dense(84, activation='relu'))\n",
        "model.add(Dense(10, activation='softmax'))\n",
        "\n",
        "model.compile(loss=keras.losses.categorical_crossentropy,\n",
        "              optimizer=keras.optimizers.Adadelta(),\n",
        "              metrics=['accuracy'])"
      ],
      "execution_count": 0,
      "outputs": [
        {
          "output_type": "stream",
          "text": [
            "WARNING:tensorflow:From /usr/local/lib/python3.6/dist-packages/keras/backend/tensorflow_backend.py:66: The name tf.get_default_graph is deprecated. Please use tf.compat.v1.get_default_graph instead.\n",
            "\n",
            "WARNING:tensorflow:From /usr/local/lib/python3.6/dist-packages/keras/optimizers.py:793: The name tf.train.Optimizer is deprecated. Please use tf.compat.v1.train.Optimizer instead.\n",
            "\n"
          ],
          "name": "stdout"
        }
      ]
    },
    {
      "cell_type": "code",
      "metadata": {
        "id": "erfRO_Gv2krL",
        "colab_type": "code",
        "outputId": "b694c7c9-2352-4764-bd41-05effb85f482",
        "colab": {
          "base_uri": "https://localhost:8080/",
          "height": 625
        }
      },
      "source": [
        "model.fit(X_train, Y_train, batch_size=128, epochs=12, validation_data=(X_test, Y_test))\n",
        "model.evaluate(X_test, Y_test)"
      ],
      "execution_count": 0,
      "outputs": [
        {
          "output_type": "stream",
          "text": [
            "WARNING:tensorflow:From /usr/local/lib/python3.6/dist-packages/tensorflow/python/ops/math_grad.py:1250: add_dispatch_support.<locals>.wrapper (from tensorflow.python.ops.array_ops) is deprecated and will be removed in a future version.\n",
            "Instructions for updating:\n",
            "Use tf.where in 2.0, which has the same broadcast rule as np.where\n",
            "WARNING:tensorflow:From /usr/local/lib/python3.6/dist-packages/keras/backend/tensorflow_backend.py:1033: The name tf.assign_add is deprecated. Please use tf.compat.v1.assign_add instead.\n",
            "\n",
            "Train on 60000 samples, validate on 10000 samples\n",
            "Epoch 1/12\n",
            "60000/60000 [==============================] - 20s 342us/step - loss: 0.3153 - acc: 0.9012 - val_loss: 0.1465 - val_acc: 0.9529\n",
            "Epoch 2/12\n",
            "60000/60000 [==============================] - 20s 327us/step - loss: 0.1233 - acc: 0.9620 - val_loss: 0.1054 - val_acc: 0.9665\n",
            "Epoch 3/12\n",
            "60000/60000 [==============================] - 20s 329us/step - loss: 0.0935 - acc: 0.9707 - val_loss: 0.0977 - val_acc: 0.9694\n",
            "Epoch 4/12\n",
            "60000/60000 [==============================] - 20s 331us/step - loss: 0.0786 - acc: 0.9759 - val_loss: 0.0923 - val_acc: 0.9710\n",
            "Epoch 5/12\n",
            "60000/60000 [==============================] - 20s 330us/step - loss: 0.0690 - acc: 0.9781 - val_loss: 0.0878 - val_acc: 0.9751\n",
            "Epoch 6/12\n",
            "60000/60000 [==============================] - 20s 329us/step - loss: 0.0607 - acc: 0.9808 - val_loss: 0.0835 - val_acc: 0.9735\n",
            "Epoch 7/12\n",
            "60000/60000 [==============================] - 20s 337us/step - loss: 0.0536 - acc: 0.9827 - val_loss: 0.0854 - val_acc: 0.9757\n",
            "Epoch 8/12\n",
            "60000/60000 [==============================] - 20s 340us/step - loss: 0.0484 - acc: 0.9848 - val_loss: 0.0900 - val_acc: 0.9744\n",
            "Epoch 9/12\n",
            "60000/60000 [==============================] - 20s 332us/step - loss: 0.0433 - acc: 0.9863 - val_loss: 0.0824 - val_acc: 0.9775\n",
            "Epoch 10/12\n",
            "60000/60000 [==============================] - 20s 341us/step - loss: 0.0398 - acc: 0.9871 - val_loss: 0.0857 - val_acc: 0.9774\n",
            "Epoch 11/12\n",
            "60000/60000 [==============================] - 20s 334us/step - loss: 0.0352 - acc: 0.9890 - val_loss: 0.0960 - val_acc: 0.9760\n",
            "Epoch 12/12\n",
            "60000/60000 [==============================] - 21s 347us/step - loss: 0.0314 - acc: 0.9896 - val_loss: 0.0930 - val_acc: 0.9768\n",
            "10000/10000 [==============================] - 2s 186us/step\n"
          ],
          "name": "stdout"
        },
        {
          "output_type": "execute_result",
          "data": {
            "text/plain": [
              "[0.09302106323444677, 0.9768]"
            ]
          },
          "metadata": {
            "tags": []
          },
          "execution_count": 16
        }
      ]
    },
    {
      "cell_type": "code",
      "metadata": {
        "id": "CMLmMP1I5cA-",
        "colab_type": "code",
        "colab": {}
      },
      "source": [
        ""
      ],
      "execution_count": 0,
      "outputs": []
    }
  ]
}